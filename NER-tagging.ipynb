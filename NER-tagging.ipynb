{
 "cells": [
  {
   "cell_type": "code",
   "execution_count": 10,
   "metadata": {},
   "outputs": [],
   "source": [
    "import numpy as np\n",
    "import csv\n",
    "import os\n",
    "import viterbi\n",
    "import baseline"
   ]
  },
  {
   "cell_type": "markdown",
   "metadata": {},
   "source": [
    "### Inizializzazione delle variabili"
   ]
  },
  {
   "cell_type": "code",
   "execution_count": 11,
   "metadata": {},
   "outputs": [],
   "source": [
    "# Variabili per memorizzare i dati\n",
    "tags = []\n",
    "words = []\n",
    "emission_P = []\n",
    "transition_P = []"
   ]
  },
  {
   "cell_type": "markdown",
   "metadata": {},
   "source": [
    "Una funzione per la lettura dei file .csv con le probabilità"
   ]
  },
  {
   "cell_type": "code",
   "execution_count": 12,
   "metadata": {},
   "outputs": [],
   "source": [
    "def readProb(reader):\n",
    "    for row in reader:\n",
    "        if row:\n",
    "            if row[0] == 'tags':\n",
    "                tags = next(reader)\n",
    "            elif row[0] == 'words':\n",
    "                words = next(reader)\n",
    "            elif row[0] == 'emissione':\n",
    "                section = 'emissione'\n",
    "                emission_P = []\n",
    "            elif row[0] == 'transizione':\n",
    "                section = 'transizione'\n",
    "                transition_P = []\n",
    "            elif section == 'emissione':\n",
    "                emission_P.append([float(x) for x in row])\n",
    "            elif section == 'transizione':\n",
    "                transition_P.append([float(x) for x in row])\n",
    "    # conversione delle matrici python in matrici numpy\n",
    "    transition_P = np.array(transition_P)\n",
    "    emission_P = np.array(emission_P)\n",
    "    \n",
    "    return tags, words, transition_P, emission_P"
   ]
  },
  {
   "cell_type": "markdown",
   "metadata": {},
   "source": [
    "### Lettura dei file .csv\n",
    "Una versione per ogni dataset wikineural"
   ]
  },
  {
   "cell_type": "markdown",
   "metadata": {},
   "source": [
    "wikineural_en"
   ]
  },
  {
   "cell_type": "code",
   "execution_count": 13,
   "metadata": {},
   "outputs": [],
   "source": [
    "current_dir = os.getcwd()\n",
    "\n",
    "# LETTURA FILE PROBABILITA'\n",
    "file_path = os.path.join(current_dir, 'wikineural_en', 'probabilities.csv')\n",
    "with open(file_path, 'r', encoding='utf-8') as prob:\n",
    "    reader = csv.reader(prob)\n",
    "    section = None\n",
    "    tags, words, transition_P, emission_P = readProb(reader)\n",
    "\n",
    "# LETTURA FILE DI TEST\n",
    "file_path = os.path.join(current_dir, 'wikineural_en', 'test.conllu')\n",
    "with open(file_path, 'r', encoding='utf-8') as test:\n",
    "   righe = test.readlines()[:100]"
   ]
  },
  {
   "cell_type": "markdown",
   "metadata": {},
   "source": [
    "wikineural_es"
   ]
  },
  {
   "cell_type": "raw",
   "metadata": {
    "vscode": {
     "languageId": "raw"
    }
   },
   "source": [
    "current_dir = os.getcwd()\n",
    "\n",
    "\n",
    "# LETTURA FILE PROBABILITA'\n",
    "file_path = os.path.join(current_dir, 'wikineural_es', 'probabilities.csv')\n",
    "with open(file_path, 'r', encoding='utf-8') as prob:\n",
    "    reader = csv.reader(prob)\n",
    "    section = None\n",
    "    tags, words, transition_P, emission_P = readProb(reader)\n",
    "\n",
    "\n",
    "# LETTURA FILE DI TEST\n",
    "file_path = os.path.join(current_dir, 'wikineural_es', 'test.conllu')\n",
    "with open(file_path, 'r', encoding='utf-8') as test:\n",
    "   righe = test.readlines()"
   ]
  },
  {
   "cell_type": "markdown",
   "metadata": {},
   "source": [
    "wikineural_it"
   ]
  },
  {
   "cell_type": "raw",
   "metadata": {
    "vscode": {
     "languageId": "raw"
    }
   },
   "source": [
    "current_dir = os.getcwd()\n",
    "\n",
    "\n",
    "# LETTURA FILE PROBABILITA'\n",
    "file_path = os.path.join(current_dir, 'wikineural_it', 'probabilities.csv')\n",
    "with open(file_path, 'r', encoding='utf-8') as prob:\n",
    "    reader = csv.reader(prob)\n",
    "    section = None\n",
    "    tags, words, transition_P, emission_P = readProb(reader)\n",
    "\n",
    "# LETTURA FILE DI TEST\n",
    "file_path = os.path.join(current_dir, 'wikineural_it', 'test.conllu')\n",
    "with open(file_path, 'r', encoding='utf-8') as test:\n",
    "   righe = test.readlines()"
   ]
  },
  {
   "cell_type": "markdown",
   "metadata": {},
   "source": [
    "## Decoding\n",
    "eseguibile con Viterbi, con la baseline semplice o con quella basata su MEMM ()"
   ]
  },
  {
   "cell_type": "code",
   "execution_count": 14,
   "metadata": {},
   "outputs": [
    {
     "name": "stdout",
     "output_type": "stream",
     "text": [
      "frase: \n",
      "['On', 'this', 'occasion', 'he', 'failed', 'to', 'gain', 'the', 'support', 'of', 'the', 'South', 'Wales', 'Miners', \"'\", 'Federation', 'and', 'had', 'to', 'stand', 'down', '.']\n",
      "tags: \n",
      "['O', 'O', 'O', 'O', 'O', 'O', 'O', 'O', 'O', 'O', 'O', 'B-ORG', 'I-ORG', 'I-ORG', 'I-ORG', 'I-ORG', 'O', 'O', 'O', 'O', 'O', 'O']\n",
      "frase: \n",
      "['On', 'both', 'these', 'occasions', 'he', 'was', 'backed', 'by', 'the', 'South', 'Wales', 'Miners', \"'\", 'Federation', ',', 'but', 'he', 'was', 'not', 'successful', '.']\n",
      "tags: \n",
      "['O', 'O', 'O', 'O', 'O', 'O', 'O', 'O', 'O', 'B-ORG', 'I-ORG', 'I-ORG', 'I-ORG', 'I-ORG', 'O', 'O', 'O', 'O', 'O', 'O', 'O']\n",
      "frase: \n",
      "['He', 'also', 'appeared', 'as', 'himself', 'in', 'the', '1996', 'film', '\"', 'Eddie', '\"', '.']\n",
      "tags: \n",
      "['O', 'O', 'O', 'O', 'O', 'O', 'O', 'O', 'O', 'O', 'B-PER', 'O', 'O']\n",
      "frase: \n",
      "['The', 'Colorado', 'Rockies', 'were', 'created', 'as', 'an', 'expansion', 'franchise', 'in', '1993', 'and', 'Coors', 'Field', 'opened', 'in', '1995', '.']\n",
      "tags: \n",
      "['O', 'B-ORG', 'I-ORG', 'O', 'O', 'O', 'O', 'O', 'O', 'O', 'O', 'O', 'B-LOC', 'I-LOC', 'O', 'O', 'O', 'O']\n"
     ]
    }
   ],
   "source": [
    "\n",
    "current_sentence = []\n",
    "current_tags = []\n",
    "true_tags = []\n",
    "predicted_tags = []\n",
    " \n",
    "\n",
    "# un ciclo for generale legge tutte le frasi del file test\n",
    "for riga in righe:\n",
    "    riga = riga.strip()\n",
    "    if riga:\n",
    "        riga = riga.split()\n",
    "        current_sentence.append(riga[1])\n",
    "        current_tags.append(riga[2])\n",
    "    else:     # riga vuota => end of sentence\n",
    "        final_sequence = viterbi.viterbi(current_sentence, emission_P, transition_P, tags, words)\n",
    "        #final_sequence = baseline.easy_baseline(current_sentence, emission_P, tags, words)\n",
    "        print(\"frase: \")\n",
    "        print(current_sentence)\n",
    "        print(\"tags: \")\n",
    "        print(final_sequence)\n",
    "        # aggiorna la sequenza di frasi e tag corretti per la valutazione\n",
    "        true_tags.append(current_tags)\n",
    "        predicted_tags.append(final_sequence)\n",
    "        current_sentence = []\n",
    "        current_tags = []\n",
    "        final_sequence = []"
   ]
  },
  {
   "cell_type": "markdown",
   "metadata": {},
   "source": [
    "## Valutazione\n",
    "Accuracy generale + Precision e Recall sulle entità"
   ]
  },
  {
   "cell_type": "code",
   "execution_count": null,
   "metadata": {},
   "outputs": [],
   "source": [
    "# accuracy generale (how many tag are correct?)\n",
    "# precision e recall sulle entità\n",
    "\n",
    "\n",
    "# true_tags e predicted_tags sono liste di liste \n",
    "\n",
    "correct = 0 \n",
    "total = 0\n",
    "predicted_entity = ['o', 'u']\n",
    "true_entity = ['o', 'u']\n",
    "true_positives = 0 \n",
    "false_positives = 0 \n",
    "false_negatives = 0\n",
    "\n",
    "true_tags = [['O', 'B-MISC', 'I-MISC', 'O', 'B-PER', 'I-PER'], ['o','o']]  #PER PROVARE CON DEBUGGING!!\n",
    "predicted_tags = [['O', 'B-MISC', 'I-MISC', 'O', 'O', 'O'], ['o','o']] \n",
    "    \n",
    "for sequence_index, tag_sequence in enumerate(true_tags):  # enumerate() restituisce sia indice che valore\n",
    "    total += len(tag_sequence)\n",
    "    for tag_index, true_tag in enumerate(tag_sequence):      \n",
    "        predicted_tag = predicted_tags[sequence_index][tag_index]\n",
    "        if true_tag == predicted_tag:  #per Accuracy\n",
    "            correct += 1\n",
    "        if predicted_tag.startswith(\"B-\") or predicted_tag.startswith(\"I-\"):\n",
    "            predicted_entity.append(predicted_tag)    # crea due sequenze di entità, predetta e vera \n",
    "            true_entity.append(true_tag)\n",
    "        if predicted_tag == \"O\":\n",
    "            if predicted_entity:    # se abbiamo appena superato un'entità controlliamo se è corretta\n",
    "                if predicted_entity == true_entity: \n",
    "                    true_positives += 1\n",
    "                else: \n",
    "                   false_positives += 1  \n",
    "                predicted_entity = []\n",
    "                true_entity = []        \n",
    "        if true_tag.startswith(\"B-\") and true_tag != predicted_tag:  # se c'è entità non riconosciuta\n",
    "            false_negatives += 1\n",
    "\n",
    "accuracy = correct / total \n",
    "precision = true_positives / (true_positives + false_positives) if (true_positives + false_positives) > 0 else 0 \n",
    "recall = true_positives / (true_positives + false_negatives) if (true_positives + false_negatives) > 0 else 0 \n",
    " \n"
   ]
  },
  {
   "cell_type": "code",
   "execution_count": 28,
   "metadata": {},
   "outputs": [
    {
     "name": "stdout",
     "output_type": "stream",
     "text": [
      "Accuracy: 0.9865\n",
      "Precision: 0.8333\n",
      "Recall: 0.8333\n"
     ]
    }
   ],
   "source": [
    "print(f\"Accuracy: {accuracy:.4f}\") \n",
    "print(f\"Precision: {precision:.4f}\") \n",
    "print(f\"Recall: {recall:.4f}\")"
   ]
  }
 ],
 "metadata": {
  "kernelspec": {
   "display_name": ".venv",
   "language": "python",
   "name": "python3"
  },
  "language_info": {
   "codemirror_mode": {
    "name": "ipython",
    "version": 3
   },
   "file_extension": ".py",
   "mimetype": "text/x-python",
   "name": "python",
   "nbconvert_exporter": "python",
   "pygments_lexer": "ipython3",
   "version": "3.8.19"
  }
 },
 "nbformat": 4,
 "nbformat_minor": 2
}
