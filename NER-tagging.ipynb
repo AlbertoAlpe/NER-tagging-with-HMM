{
 "cells": [
  {
   "cell_type": "code",
   "execution_count": 1,
   "metadata": {},
   "outputs": [],
   "source": [
    "import numpy as np\n",
    "import csv\n",
    "import os\n",
    "import viterbi\n",
    "import baseline"
   ]
  },
  {
   "cell_type": "markdown",
   "metadata": {},
   "source": [
    "### Inizializzazione delle variabili"
   ]
  },
  {
   "cell_type": "code",
   "execution_count": 2,
   "metadata": {},
   "outputs": [],
   "source": [
    "# Variabili per memorizzare i dati\n",
    "tags = []\n",
    "words = []\n",
    "emission_P = []\n",
    "transition_P = []"
   ]
  },
  {
   "cell_type": "markdown",
   "metadata": {},
   "source": [
    "Una funzione per la lettura dei file .csv con le probabilità"
   ]
  },
  {
   "cell_type": "code",
   "execution_count": 3,
   "metadata": {},
   "outputs": [],
   "source": [
    "def readProb(reader):\n",
    "    for row in reader:\n",
    "        if row:\n",
    "            if row[0] == 'tags':\n",
    "                tags = next(reader)\n",
    "            elif row[0] == 'words':\n",
    "                words = next(reader)\n",
    "            elif row[0] == 'emissione':\n",
    "                section = 'emissione'\n",
    "                emission_P = []\n",
    "            elif row[0] == 'transizione':\n",
    "                section = 'transizione'\n",
    "                transition_P = []\n",
    "            elif section == 'emissione':\n",
    "                emission_P.append([float(x) for x in row])\n",
    "            elif section == 'transizione':\n",
    "                transition_P.append([float(x) for x in row])\n",
    "    # conversione delle matrici python in matrici numpy\n",
    "    transition_P = np.array(transition_P)\n",
    "    emission_P = np.array(emission_P)\n",
    "    \n",
    "    return tags, words, transition_P, emission_P"
   ]
  },
  {
   "cell_type": "markdown",
   "metadata": {},
   "source": [
    "### Lettura dei file .csv\n",
    "Una versione per ogni dataset wikineural"
   ]
  },
  {
   "cell_type": "markdown",
   "metadata": {},
   "source": [
    "wikineural_en"
   ]
  },
  {
   "cell_type": "code",
   "execution_count": 4,
   "metadata": {},
   "outputs": [],
   "source": [
    "current_dir = os.getcwd()\n",
    "\n",
    "# LETTURA FILE PROBABILITA'\n",
    "file_path = os.path.join(current_dir, 'wikineural_en', 'probabilities.csv')\n",
    "with open(file_path, 'r', encoding='utf-8') as prob:\n",
    "    reader = csv.reader(prob)\n",
    "    section = None\n",
    "    tags, words, transition_P, emission_P = readProb(reader)\n",
    "\n",
    "# LETTURA FILE DI TEST\n",
    "file_path = os.path.join(current_dir, 'wikineural_en', 'test.conllu')\n",
    "with open(file_path, 'r', encoding='utf-8') as test:\n",
    "   righe = test.readlines()"
   ]
  },
  {
   "cell_type": "markdown",
   "metadata": {},
   "source": [
    "wikineural_es"
   ]
  },
  {
   "cell_type": "raw",
   "metadata": {
    "vscode": {
     "languageId": "raw"
    }
   },
   "source": [
    "current_dir = os.getcwd()\n",
    "\n",
    "\n",
    "# LETTURA FILE PROBABILITA'\n",
    "file_path = os.path.join(current_dir, 'wikineural_es', 'probabilities.csv')\n",
    "with open(file_path, 'r', encoding='utf-8') as prob:\n",
    "    reader = csv.reader(prob)\n",
    "    section = None\n",
    "    tags, words, transition_P, emission_P = readProb(reader)\n",
    "\n",
    "\n",
    "# LETTURA FILE DI TEST\n",
    "file_path = os.path.join(current_dir, 'wikineural_es', 'test.conllu')\n",
    "with open(file_path, 'r', encoding='utf-8') as test:\n",
    "   righe = test.readlines()"
   ]
  },
  {
   "cell_type": "markdown",
   "metadata": {},
   "source": [
    "wikineural_it"
   ]
  },
  {
   "cell_type": "raw",
   "metadata": {
    "vscode": {
     "languageId": "raw"
    }
   },
   "source": [
    "current_dir = os.getcwd()\n",
    "\n",
    "\n",
    "# LETTURA FILE PROBABILITA'\n",
    "file_path = os.path.join(current_dir, 'wikineural_it', 'probabilities.csv')\n",
    "with open(file_path, 'r', encoding='utf-8') as prob:\n",
    "    reader = csv.reader(prob)\n",
    "    section = None\n",
    "    tags, words, transition_P, emission_P = readProb(reader)\n",
    "\n",
    "# LETTURA FILE DI TEST\n",
    "file_path = os.path.join(current_dir, 'wikineural_it', 'test.conllu')\n",
    "with open(file_path, 'r', encoding='utf-8') as test:\n",
    "   righe = test.readlines()"
   ]
  },
  {
   "cell_type": "markdown",
   "metadata": {},
   "source": [
    "## Decoding\n",
    "eseguibile con Viterbi, con la baseline semplice o con quella basata su MEMM ()"
   ]
  },
  {
   "cell_type": "code",
   "execution_count": 5,
   "metadata": {},
   "outputs": [
    {
     "name": "stdout",
     "output_type": "stream",
     "text": [
      "frase: \n",
      "['On', 'this', 'occasion', 'he', 'failed', 'to', 'gain', 'the', 'support', 'of', 'the', 'South', 'Wales', 'Miners', \"'\", 'Federation', 'and', 'had', 'to', 'stand', 'down', '.']\n",
      "tags: \n",
      "['O', 'O', 'O', 'O', 'O', 'O', 'O', 'O', 'O', 'O', 'O', 'B-ORG', 'I-ORG', 'I-ORG', 'I-ORG', 'I-ORG', 'O', 'O', 'O', 'O', 'O', 'O']\n",
      "frase: \n",
      "['On', 'both', 'these', 'occasions', 'he', 'was', 'backed', 'by', 'the', 'South', 'Wales', 'Miners', \"'\", 'Federation', ',', 'but', 'he', 'was', 'not', 'successful', '.']\n",
      "tags: \n",
      "['O', 'O', 'O', 'O', 'O', 'O', 'O', 'O', 'O', 'B-ORG', 'I-ORG', 'I-ORG', 'I-ORG', 'I-ORG', 'O', 'O', 'O', 'O', 'O', 'O', 'O']\n",
      "frase: \n",
      "['He', 'also', 'appeared', 'as', 'himself', 'in', 'the', '1996', 'film', '\"', 'Eddie', '\"', '.']\n",
      "tags: \n",
      "['O', 'O', 'O', 'O', 'O', 'O', 'O', 'O', 'O', 'O', 'B-PER', 'O', 'O']\n",
      "frase: \n",
      "['The', 'Colorado', 'Rockies', 'were', 'created', 'as', 'an', 'expansion', 'franchise', 'in', '1993', 'and', 'Coors', 'Field', 'opened', 'in', '1995', '.']\n",
      "tags: \n",
      "['O', 'B-ORG', 'I-ORG', 'O', 'O', 'O', 'O', 'O', 'O', 'O', 'O', 'O', 'B-LOC', 'I-LOC', 'O', 'O', 'O', 'O']\n"
     ]
    }
   ],
   "source": [
    "# la frase da analizzare\n",
    "sequence = []\n",
    "\n",
    "# un ciclo for generale legge tutte le frasi del file test\n",
    "for riga in righe:\n",
    "    riga = riga.strip()\n",
    "    if riga:\n",
    "        riga = riga.split()\n",
    "        sequence.append(riga[1])\n",
    "    else:     # riga vuota => end of sentence\n",
    "        final_sequence = viterbi.viterbi(sequence, emission_P, transition_P, tags, words)\n",
    "        #final_sequence = baseline.easy_baseline(sequence, emission_P, tags, words)\n",
    "        print(\"frase: \")\n",
    "        print(sequence)\n",
    "        print(\"tags: \")\n",
    "        print(final_sequence)\n",
    "        sequence = []\n",
    "        final_sequence = []"
   ]
  },
  {
   "cell_type": "markdown",
   "metadata": {},
   "source": [
    "## Valutazione"
   ]
  },
  {
   "cell_type": "code",
   "execution_count": 6,
   "metadata": {},
   "outputs": [],
   "source": [
    "def evaluate(test_sentences, emission_P, transition_P, tags, words): \n",
    "    correct = 0 \n",
    "    total = 0 \n",
    "    true_positives = 0 \n",
    "    false_positives = 0 \n",
    "    false_negatives = 0 \n",
    "     \n",
    "    for sentence in test_sentences: \n",
    "        sequence = [word for word, true_tag in sentence] \n",
    "        true_tags = [true_tag for word, true_tag in sentence] \n",
    "        predicted_tags = viterbi(sequence, emission_P, transition_P, tags, words) \n",
    "         \n",
    "        for true_tag, predicted_tag in zip(true_tags, predicted_tags): \n",
    "            if true_tag == predicted_tag: \n",
    "                correct += 1 \n",
    "            total += 1 \n",
    " \n",
    "            if predicted_tag.startswith(\"B-\") or predicted_tag.startswith(\"I-\"): \n",
    "                if predicted_tag == true_tag: \n",
    "                    true_positives += 1 \n",
    "                else: \n",
    "                    false_positives += 1 \n",
    "            if true_tag.startswith(\"B-\") or true_tag.startswith(\"I-\"): \n",
    "                if true_tag != predicted_tag: \n",
    "                    false_negatives += 1 \n",
    " \n",
    "    accuracy = correct / total \n",
    "    precision = true_positives / (true_positives + false_positives) if (true_positives + false_positives) > 0 else 0 \n",
    "    recall = true_positives / (true_positives + false_negatives) if (true_positives + false_negatives) > 0 else 0 \n",
    "    f1_score = 2 * (precision * recall) / (precision + recall) if (precision + recall) > 0 else 0 \n",
    " \n",
    "    return accuracy, precision, recall, f1_score"
   ]
  },
  {
   "cell_type": "code",
   "execution_count": null,
   "metadata": {},
   "outputs": [],
   "source": [
    "accuracy, precision, recall, f1_score = evaluate(test_sentences, emission_P, transition_P, tags, words) \n",
    " \n",
    "print(f\"Accuracy: {accuracy:.4f}\") \n",
    "print(f\"Precision: {precision:.4f}\") \n",
    "print(f\"Recall: {recall:.4f}\") \n",
    "print(f\"F1 Score: {f1_score:.4f}\")"
   ]
  }
 ],
 "metadata": {
  "kernelspec": {
   "display_name": ".venv",
   "language": "python",
   "name": "python3"
  },
  "language_info": {
   "codemirror_mode": {
    "name": "ipython",
    "version": 3
   },
   "file_extension": ".py",
   "mimetype": "text/x-python",
   "name": "python",
   "nbconvert_exporter": "python",
   "pygments_lexer": "ipython3",
   "version": "3.8.19"
  }
 },
 "nbformat": 4,
 "nbformat_minor": 2
}
