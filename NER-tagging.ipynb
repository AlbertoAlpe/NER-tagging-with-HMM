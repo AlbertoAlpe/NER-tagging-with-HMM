{
 "cells": [
  {
   "cell_type": "code",
   "execution_count": 29,
   "metadata": {},
   "outputs": [],
   "source": [
    "import numpy as np\n",
    "import csv\n",
    "import os\n",
    "import viterbi\n",
    "import baselines"
   ]
  },
  {
   "cell_type": "markdown",
   "metadata": {},
   "source": [
    "### Inizializzazione delle variabili"
   ]
  },
  {
   "cell_type": "code",
   "execution_count": 30,
   "metadata": {},
   "outputs": [],
   "source": [
    "# Variabili per memorizzare i dati\n",
    "tags = []\n",
    "words = []\n",
    "emission_P = []\n",
    "transition_P = []"
   ]
  },
  {
   "cell_type": "markdown",
   "metadata": {},
   "source": [
    "Una funzione per la lettura dei file .csv con le probabilità"
   ]
  },
  {
   "cell_type": "code",
   "execution_count": 31,
   "metadata": {},
   "outputs": [],
   "source": [
    "def readProb(reader):\n",
    "    for row in reader:\n",
    "        if row:\n",
    "            if row[0] == 'tags':\n",
    "                tags = next(reader)\n",
    "            elif row[0] == 'words':\n",
    "                words = next(reader)\n",
    "            elif row[0] == 'emissione':\n",
    "                section = 'emissione'\n",
    "                emission_P = []\n",
    "            elif row[0] == 'transizione':\n",
    "                section = 'transizione'\n",
    "                transition_P = []\n",
    "            elif section == 'emissione':\n",
    "                emission_P.append([float(x) for x in row])\n",
    "            elif section == 'transizione':\n",
    "                transition_P.append([float(x) for x in row])\n",
    "    # conversione delle matrici python in matrici numpy\n",
    "    transition_P = np.array(transition_P)\n",
    "    emission_P = np.array(emission_P)\n",
    "    \n",
    "    return tags, words, transition_P, emission_P"
   ]
  },
  {
   "cell_type": "markdown",
   "metadata": {},
   "source": [
    "### Lettura dei file .csv\n",
    "Nota: una versione per ogni dataset wikineural"
   ]
  },
  {
   "cell_type": "markdown",
   "metadata": {},
   "source": [
    "wikineural_en"
   ]
  },
  {
   "cell_type": "code",
   "execution_count": 32,
   "metadata": {},
   "outputs": [],
   "source": [
    "current_dir = os.getcwd()\n",
    "\n",
    "# LETTURA FILE PROBABILITA'\n",
    "file_path = os.path.join(current_dir, 'wikineural_en', 'probabilities.csv')\n",
    "with open(file_path, 'r', encoding='utf-8') as prob:\n",
    "    reader = csv.reader(prob)\n",
    "    section = None\n",
    "    tags, words, transition_P, emission_P = readProb(reader)\n",
    "\n",
    "# LETTURA FILE DI TEST\n",
    "file_path = os.path.join(current_dir, 'wikineural_en', 'test.conllu')\n",
    "with open(file_path, 'r', encoding='utf-8') as test:\n",
    "   righe = test.readlines()[:100]"
   ]
  },
  {
   "cell_type": "markdown",
   "metadata": {},
   "source": [
    "wikineural_es"
   ]
  },
  {
   "cell_type": "raw",
   "metadata": {
    "vscode": {
     "languageId": "raw"
    }
   },
   "source": [
    "current_dir = os.getcwd()\n",
    "\n",
    "\n",
    "# LETTURA FILE PROBABILITA'\n",
    "file_path = os.path.join(current_dir, 'wikineural_es', 'probabilities.csv')\n",
    "with open(file_path, 'r', encoding='utf-8') as prob:\n",
    "    reader = csv.reader(prob)\n",
    "    section = None\n",
    "    tags, words, transition_P, emission_P = readProb(reader)\n",
    "\n",
    "\n",
    "# LETTURA FILE DI TEST\n",
    "file_path = os.path.join(current_dir, 'wikineural_es', 'test.conllu')\n",
    "with open(file_path, 'r', encoding='utf-8') as test:\n",
    "   righe = test.readlines()[:100]"
   ]
  },
  {
   "cell_type": "markdown",
   "metadata": {},
   "source": [
    "wikineural_it"
   ]
  },
  {
   "cell_type": "code",
   "execution_count": 33,
   "metadata": {},
   "outputs": [],
   "source": [
    "current_dir = os.getcwd()\n",
    "\n",
    "\n",
    "# LETTURA FILE PROBABILITA'\n",
    "file_path = os.path.join(current_dir, 'wikineural_it', 'probabilities.csv')\n",
    "with open(file_path, 'r', encoding='utf-8') as prob:\n",
    "    reader = csv.reader(prob)\n",
    "    section = None\n",
    "    tags, words, transition_P, emission_P = readProb(reader)\n",
    "\n",
    "# LETTURA FILE DI TEST\n",
    "file_path = os.path.join(current_dir, 'wikineural_it', 'test.conllu')\n",
    "with open(file_path, 'r', encoding='utf-8') as test:\n",
    "   righe = test.readlines()[:100]"
   ]
  },
  {
   "cell_type": "markdown",
   "metadata": {},
   "source": [
    "### Decoding\n",
    "eseguibile con Viterbi o con le baselines"
   ]
  },
  {
   "cell_type": "code",
   "execution_count": 34,
   "metadata": {},
   "outputs": [
    {
     "name": "stdout",
     "output_type": "stream",
     "text": [
      "frase: \n",
      "['On', 'this', 'occasion', 'he', 'failed', 'to', 'gain', 'the', 'support', 'of', 'the', 'South', 'Wales', 'Miners', \"'\", 'Federation', 'and', 'had', 'to', 'stand', 'down', '.']\n",
      "tags: \n",
      "['B-MISC', 'O', 'O', 'O', 'B-ORG', 'I-ORG', 'I-ORG', 'I-ORG', 'I-ORG', 'I-ORG', 'I-ORG', 'I-ORG', 'I-ORG', 'I-ORG', 'I-ORG', 'I-ORG', 'I-ORG', 'O', 'O', 'O', 'O', 'O']\n",
      "frase: \n",
      "['On', 'both', 'these', 'occasions', 'he', 'was', 'backed', 'by', 'the', 'South', 'Wales', 'Miners', \"'\", 'Federation', ',', 'but', 'he', 'was', 'not', 'successful', '.']\n",
      "tags: \n",
      "['B-MISC', 'I-MISC', 'O', 'O', 'O', 'O', 'B-ORG', 'I-ORG', 'I-ORG', 'I-ORG', 'I-ORG', 'I-ORG', 'I-ORG', 'I-ORG', 'O', 'O', 'O', 'O', 'O', 'O', 'O']\n",
      "frase: \n",
      "['He', 'also', 'appeared', 'as', 'himself', 'in', 'the', '1996', 'film', '\"', 'Eddie', '\"', '.']\n",
      "tags: \n",
      "['B-MISC', 'I-MISC', 'I-MISC', 'I-MISC', 'I-MISC', 'I-MISC', 'I-MISC', 'I-MISC', 'O', 'O', 'B-PER', 'O', 'O']\n",
      "frase: \n",
      "['The', 'Colorado', 'Rockies', 'were', 'created', 'as', 'an', 'expansion', 'franchise', 'in', '1993', 'and', 'Coors', 'Field', 'opened', 'in', '1995', '.']\n",
      "tags: \n",
      "['O', 'B-ORG', 'I-ORG', 'O', 'B-MISC', 'I-MISC', 'I-MISC', 'O', 'O', 'O', 'O', 'O', 'B-LOC', 'I-LOC', 'O', 'O', 'O', 'O']\n"
     ]
    }
   ],
   "source": [
    "# la frase da analizzare\n",
    "sequence = []\n",
    "\n",
    "# un ciclo for generale legge tutte le frasi del file test\n",
    "for riga in righe:\n",
    "    riga = riga.strip()\n",
    "    if riga:\n",
    "        riga = riga.split()\n",
    "        sequence.append(riga[1])\n",
    "    else:     # riga vuota => end of sentence\n",
    "        final_sequence = viterbi.viterbi(sequence, emission_P, transition_P, tags, words)\n",
    "        #final_sequence = baselines.easy_baseline(sequence, emission_P, tags, words)\n",
    "        print(\"frase: \")\n",
    "        print(sequence)\n",
    "        print(\"tags: \")\n",
    "        print(final_sequence)\n",
    "        sequence = []\n",
    "        final_sequence = []"
   ]
  }
 ],
 "metadata": {
  "kernelspec": {
   "display_name": ".venv",
   "language": "python",
   "name": "python3"
  },
  "language_info": {
   "codemirror_mode": {
    "name": "ipython",
    "version": 3
   },
   "file_extension": ".py",
   "mimetype": "text/x-python",
   "name": "python",
   "nbconvert_exporter": "python",
   "pygments_lexer": "ipython3",
   "version": "3.9.2"
  }
 },
 "nbformat": 4,
 "nbformat_minor": 2
}
